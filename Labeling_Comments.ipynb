{
 "cells": [
  {
   "cell_type": "code",
   "execution_count": 1,
   "metadata": {},
   "outputs": [
    {
     "name": "stdout",
     "output_type": "stream",
     "text": [
      "                                              comments comments_writer  mbti\n",
      "1    저도요..\\n음 그래서 이유를 물어보면 대답을 잘 안해주는데요\\n그냥 짜증나거나 예...        ENTJ큐큐QQ  ENTJ\n",
      "3                   귀엽죠 ㅋㅋ 강아지 같아요\\n애기같아서 애기라고 하거든요 ㅎㅎ        ENTJ큐큐QQ  ENTJ\n",
      "9                          엔프피는 그나마 다 잘 맞는 유형 아닐까 싶네요!    딸림음 INFJ 7w6  INFJ\n",
      "10                          N이 수학을 싫어하나요? 전 영수 좋아했는데..     iINFJ A 4w5  INFJ\n",
      "11                                     저도 수학 좋아하는데....    딸림음 INFJ 7w6  INFJ\n",
      "..                                                 ...             ...   ...\n",
      "321                                   \"너는 지금언제야\" 는 어때요     된장속강아지 INTJ  INTJ\n",
      "324                                 이래서 엥뿌삐를 못끊어요 (어?)     된장속강아지 INTJ  INTJ\n",
      "335                       창을 열어 소리쳐봐라고 한다면 무슨 말을 할건가요?        열일하는ENTP  ENTP\n",
      "337                           아빠는 왜 소외시키나요 창 한번 더 열여야죠        열일하는ENTP  ENTP\n",
      "347  ㅋㅎㅎ 넹 생각이 많네요,,\\n근데 그걸 하나하나 다 말할 수도 없고, 어느 정도는...            암엥뿌삐  ENFP\n",
      "\n",
      "[124 rows x 3 columns]\n",
      "124\n"
     ]
    }
   ],
   "source": [
    "import pandas as pd\n",
    "import re\n",
    "\n",
    "mbti_dic = {\n",
    "    '엥': 'EN', '뿌': 'F', '삐': 'P', '엔': 'EN', '인': 'IN',\n",
    "    '티': 'T', '제': 'J', '잇': 'IS', '엣': 'ES', '팁': 'TP',\n",
    "    '프': 'F', '푸': 'F', '1': 'I', '2': 'E', '피':'P', '웬':'EN',\n",
    "    '줴': 'J', '쀼':'F'\n",
    "    }\n",
    "\n",
    "csv_file_path = 'D:\\\\강의\\\\3-2\\\\학부연구참여(UROP)\\\\YongRullNewTown\\\\Crawling\\\\첫번째댓글요\\\\comment_2023-10-29_14-15-34_(1 to 3).csv'\n",
    "df = pd.read_csv(csv_file_path)\n",
    "\n",
    "def mbti_conversion(row):\n",
    "    # 영어 MBTI로 변환 가능한 경우\n",
    "    mbti_types = re.findall(r'[A-Z]+', row)\n",
    "    if mbti_types:\n",
    "        return mbti_types[0]\n",
    "    \n",
    "    # 한글 MBTI로 변환\n",
    "    converted_string = ''\n",
    "    for char in row:\n",
    "        if char in mbti_dic:\n",
    "            converted_string += mbti_dic[char]\n",
    "    \n",
    "    return converted_string\n",
    "\n",
    "# 'comments_writer' 열을 복사하여 'mbti' 열을 생성\n",
    "df['mbti'] = df['comments_writer'].apply(mbti_conversion)\n",
    "\n",
    "# 필요한 MBTI 유형에 해당하는 행만 추출\n",
    "valid_mbti = ['ISTJ', 'ISFJ', 'INFJ', 'INTJ', 'ISTP', 'ISFP', 'INFP', 'INTP',\n",
    "              'ESTP', 'ESFP', 'ENFP', 'ENTP', 'ESTJ', 'ESFJ', 'ENFJ', 'ENTJ']\n",
    "filtered_df = df[df['mbti'].isin(valid_mbti)]\n",
    "\n",
    "# 결과를 출력\n",
    "print(filtered_df)\n",
    "print(len(filtered_df))\n"
   ]
  }
 ],
 "metadata": {
  "kernelspec": {
   "display_name": "urop",
   "language": "python",
   "name": "python3"
  },
  "language_info": {
   "codemirror_mode": {
    "name": "ipython",
    "version": 3
   },
   "file_extension": ".py",
   "mimetype": "text/x-python",
   "name": "python",
   "nbconvert_exporter": "python",
   "pygments_lexer": "ipython3",
   "version": "3.9.18"
  }
 },
 "nbformat": 4,
 "nbformat_minor": 2
}
