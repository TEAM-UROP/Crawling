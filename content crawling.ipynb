{
 "cells": [
  {
   "cell_type": "code",
   "execution_count": 86,
   "metadata": {},
   "outputs": [],
   "source": [
    "import bs4\n",
    "import json\n",
    "import pandas as pd\n",
    "import requests\n",
    "from selenium import webdriver\n",
    "from selenium.webdriver.common.by import By\n",
    "from selenium.webdriver.support.ui import WebDriverWait\n",
    "from selenium.webdriver.support import expected_conditions as EC\n",
    "import time\n",
    "import pyperclip\n",
    "from selenium.webdriver.common.keys import Keys\n",
    "from dotenv import load_dotenv\n",
    "import os\n",
    "import datetime"
   ]
  },
  {
   "cell_type": "markdown",
   "metadata": {},
   "source": [
    "- id, password 는 환경변수로 설정\n"
   ]
  },
  {
   "cell_type": "code",
   "execution_count": 84,
   "metadata": {},
   "outputs": [],
   "source": [
    "load_dotenv()\n",
    "id = os.environ.get(\"MyID\")\n",
    "password = os.environ.get(\"MyPassword\")"
   ]
  },
  {
   "cell_type": "code",
   "execution_count": null,
   "metadata": {},
   "outputs": [],
   "source": [
    "# load the driver\n",
    "driver = webdriver.Chrome()\n",
    "\n",
    "# login\n",
    "driver.get('https://nid.naver.com/nidlogin.login')\n",
    "time.sleep(1)\n",
    "pyperclip.copy(id) \n",
    "driver.find_element(By.ID,'id').send_keys(Keys.CONTROL, 'v')\n",
    "pyperclip.copy(password)\n",
    "driver.find_element(By.ID,'pw').send_keys(Keys.CONTROL, 'v')\n",
    "driver.find_element(By.ID,'log.login').click()\n",
    "time.sleep(1)\n",
    "\n",
    "# move to the cafe\n",
    "driver.get('https://cafe.naver.com/mbticafe')\n",
    "# move to the first 사랑방\n",
    "driver.find_element(By.ID, \"menuLink18\").click()\n",
    "\n",
    "contents_list = []\n",
    "author_list = []\n",
    "comments_list_with_post = []\n",
    "comments_list = []\n",
    "comments_writer_list = []\n",
    "for page_num in range(1, 4):\n",
    "    # move to the page\n",
    "    driver.switch_to.frame(\"cafe_main\")\n",
    "    driver.find_element(By.XPATH, f'//*[@id=\"main-area\"]/div[6]/a[{page_num}]').click()\n",
    "    time.sleep(1)\n",
    "    for i in range(1, 16):\n",
    "        if i != 1:\n",
    "            driver.switch_to.frame(\"cafe_main\")\n",
    "        # enter the post\n",
    "        content_path = f'//*[@id=\"main-area\"]/div[4]/table/tbody/tr[{i}]/td[1]/div[2]/div/a'\n",
    "        driver.find_element(By.XPATH, content_path).click()\n",
    "        time.sleep(1)\n",
    "        # contents loading\n",
    "        content = driver.find_elements(By.CSS_SELECTOR, '.se-fs-.se-ff-')\n",
    "        inner_contents = []\n",
    "        for i in content:\n",
    "            inner_contents.append(i.text)\n",
    "        contents_list.append(inner_contents)\n",
    "        # author loading\n",
    "        author = driver.find_element(By.XPATH, '//*[@id=\"app\"]/div/div/div[2]/div[2]/div[2]/div/a/span[2]/strong')\n",
    "        author_list.append(author.text)\n",
    "        # comments with post loading\n",
    "        comments = driver.find_elements(By.XPATH, '//span[@class=\"text_comment\"]')\n",
    "        inner_contents = []\n",
    "        if comments == '':\n",
    "            inner_contents.append('')\n",
    "        else:\n",
    "            for i in comments:\n",
    "                inner_contents.append(i.text)\n",
    "            comments_list_with_post.append(inner_contents)\n",
    "        # comments loading\n",
    "        for i in comments:\n",
    "            comments_list.append(i.text)\n",
    "        # comments_writer loading\n",
    "        comment_writer = driver.find_elements(By.CLASS_NAME, 'comment_nickname')\n",
    "        for i in comment_writer:\n",
    "            comments_writer_list.append(i.text)\n",
    "        \n",
    "        driver.back()\n",
    "\n",
    "driver.quit()\n",
    "print(\"----------- crawling done -----------\")\n",
    "\n",
    "current_time = datetime.datetime.now().strftime(\"%Y-%m-%d_%H-%M-%S\")\n",
    "\n",
    "df_post = pd.DataFrame({'author': author_list, 'contents': contents_list, 'comments': comments_list_with_post})\n",
    "df_post.to_csv(f'post_{current_time}.csv', index=False, encoding='utf-8-sig')\n",
    "\n",
    "df_comment = pd.DataFrame({'comments': comments_list, 'comments_writer': comments_writer_list})\n",
    "df_comment.to_csv(f'comment_{current_time}.csv', index=False, encoding='utf-8-sig')\n"
   ]
  }
 ],
 "metadata": {
  "kernelspec": {
   "display_name": "urop",
   "language": "python",
   "name": "python3"
  },
  "language_info": {
   "codemirror_mode": {
    "name": "ipython",
    "version": 3
   },
   "file_extension": ".py",
   "mimetype": "text/x-python",
   "name": "python",
   "nbconvert_exporter": "python",
   "pygments_lexer": "ipython3",
   "version": "3.9.18"
  }
 },
 "nbformat": 4,
 "nbformat_minor": 2
}
