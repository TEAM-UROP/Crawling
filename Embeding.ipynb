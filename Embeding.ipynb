{
 "cells": [
  {
   "cell_type": "code",
   "execution_count": 2,
   "metadata": {},
   "outputs": [],
   "source": [
    "import optuna\n",
    "from gensim.models import Word2Vec\n",
    "import pandas as pd"
   ]
  },
  {
   "cell_type": "code",
   "execution_count": 3,
   "metadata": {},
   "outputs": [
    {
     "name": "stderr",
     "output_type": "stream",
     "text": [
      "[I 2023-11-23 22:13:36,168] A new study created in memory with name: no-name-3f4a69a8-f7b3-4427-ac2a-8fc2a98ad39e\n"
     ]
    },
    {
     "name": "stderr",
     "output_type": "stream",
     "text": [
      "[I 2023-11-23 22:13:36,271] Trial 0 finished with value: 0.0 and parameters: {'vector_size': 100, 'window': 3, 'min_count': 2, 'sg': 0}. Best is trial 0 with value: 0.0.\n",
      "[I 2023-11-23 22:13:36,421] Trial 1 finished with value: 0.0 and parameters: {'vector_size': 50, 'window': 5, 'min_count': 1, 'sg': 0}. Best is trial 0 with value: 0.0.\n",
      "[I 2023-11-23 22:13:36,555] Trial 2 finished with value: 0.0 and parameters: {'vector_size': 50, 'window': 3, 'min_count': 1, 'sg': 0}. Best is trial 0 with value: 0.0.\n",
      "[I 2023-11-23 22:13:36,698] Trial 3 finished with value: 0.0 and parameters: {'vector_size': 100, 'window': 5, 'min_count': 1, 'sg': 0}. Best is trial 0 with value: 0.0.\n",
      "[I 2023-11-23 22:13:36,845] Trial 4 finished with value: 0.0 and parameters: {'vector_size': 50, 'window': 3, 'min_count': 1, 'sg': 0}. Best is trial 0 with value: 0.0.\n",
      "[I 2023-11-23 22:13:36,992] Trial 5 finished with value: 0.0 and parameters: {'vector_size': 50, 'window': 3, 'min_count': 1, 'sg': 0}. Best is trial 0 with value: 0.0.\n",
      "[I 2023-11-23 22:13:37,088] Trial 6 finished with value: 0.0 and parameters: {'vector_size': 50, 'window': 5, 'min_count': 2, 'sg': 0}. Best is trial 0 with value: 0.0.\n",
      "[I 2023-11-23 22:13:37,277] Trial 7 finished with value: 0.0 and parameters: {'vector_size': 50, 'window': 5, 'min_count': 2, 'sg': 1}. Best is trial 0 with value: 0.0.\n",
      "[I 2023-11-23 22:13:37,368] Trial 8 finished with value: 0.0 and parameters: {'vector_size': 50, 'window': 3, 'min_count': 2, 'sg': 0}. Best is trial 0 with value: 0.0.\n",
      "[I 2023-11-23 22:13:37,514] Trial 9 finished with value: 0.0 and parameters: {'vector_size': 50, 'window': 3, 'min_count': 2, 'sg': 1}. Best is trial 0 with value: 0.0.\n"
     ]
    },
    {
     "name": "stdout",
     "output_type": "stream",
     "text": [
      "Best parameters: {'vector_size': 100, 'window': 3, 'min_count': 2, 'sg': 0}\n"
     ]
    }
   ],
   "source": [
    "import pandas as pd\n",
    "from gensim.models import Word2Vec\n",
    "import optuna\n",
    "\n",
    "# 데이터 불러오기\n",
    "df = pd.read_csv('./tokenized_0.csv')\n",
    "\n",
    "# 텍스트를 토큰화하여 리스트로 변환\n",
    "tokenized_corpus = [str(sentence).lower().split() for sentence in df['comments'] if pd.notnull(sentence)]\n",
    "\n",
    "def objective(trial):\n",
    "    # 하이퍼파라미터 탐색할 범위 지정\n",
    "    size = trial.suggest_categorical('size', [50, 100])\n",
    "    window = trial.suggest_categorical('window', [3, 5])\n",
    "    min_count = trial.suggest_categorical('min_count', [1, 2])\n",
    "    sg = trial.suggest_categorical('sg', [0, 1])\n",
    "\n",
    "    # Word2Vec 모델 정의\n",
    "    model = Word2Vec(size=size, window=window, min_count=min_count, sg=sg)\n",
    "\n",
    "    # 모델 학습\n",
    "    model.build_vocab(tokenized_corpus)\n",
    "    model.train(tokenized_corpus, total_examples=model.corpus_count, epochs=model.epochs)\n",
    "\n",
    "    # 목적 함수(여기선 단순히 학습 손실값 반환) 설정\n",
    "    loss = model.get_latest_training_loss()\n",
    "\n",
    "    return loss\n",
    "\n",
    "# Optuna를 사용하여 최적화 실행\n",
    "study = optuna.create_study(direction='minimize')\n",
    "study.optimize(objective, n_trials=10)\n",
    "\n",
    "# 최적의 하이퍼파라미터 출력\n",
    "print(\"Best parameters:\", study.best_params)\n",
    "\n",
    "# 최적의 하이퍼파라미터로 모델 재훈련\n",
    "best_params = study.best_params\n",
    "best_model = Word2Vec(size=best_params['size'], window=best_params['window'], min_count=best_params['min_count'], sg=best_params['sg'])\n",
    "best_model.build_vocab(tokenized_corpus)\n",
    "best_model.train(tokenized_corpus, total_examples=best_model.corpus_count, epochs=best_model.epochs)\n",
    "\n",
    "# 튜닝된 Word2Vec 모델에서 단어 벡터 출력\n",
    "word_vectors = best_model.wv\n",
    "# 예시: 단어 'apple'의 벡터 출력\n",
    "print(\"Vector for 'apple':\", word_vectors['apple'])\n"
   ]
  },
  {
   "cell_type": "code",
   "execution_count": null,
   "metadata": {},
   "outputs": [],
   "source": []
  }
 ],
 "metadata": {
  "kernelspec": {
   "display_name": "urop",
   "language": "python",
   "name": "python3"
  },
  "language_info": {
   "codemirror_mode": {
    "name": "ipython",
    "version": 3
   },
   "file_extension": ".py",
   "mimetype": "text/x-python",
   "name": "python",
   "nbconvert_exporter": "python",
   "pygments_lexer": "ipython3",
   "version": "3.11.5"
  }
 },
 "nbformat": 4,
 "nbformat_minor": 2
}
