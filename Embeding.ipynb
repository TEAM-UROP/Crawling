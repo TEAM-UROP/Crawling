{
 "cells": [
  {
   "cell_type": "code",
   "execution_count": 6,
   "metadata": {},
   "outputs": [],
   "source": [
    "import optuna\n",
    "from gensim.models import Word2Vec\n",
    "import pandas as pd"
   ]
  },
  {
   "cell_type": "code",
   "execution_count": 9,
   "metadata": {},
   "outputs": [
    {
     "data": {
      "text/html": [
       "<div>\n",
       "<style scoped>\n",
       "    .dataframe tbody tr th:only-of-type {\n",
       "        vertical-align: middle;\n",
       "    }\n",
       "\n",
       "    .dataframe tbody tr th {\n",
       "        vertical-align: top;\n",
       "    }\n",
       "\n",
       "    .dataframe thead th {\n",
       "        text-align: right;\n",
       "    }\n",
       "</style>\n",
       "<table border=\"1\" class=\"dataframe\">\n",
       "  <thead>\n",
       "    <tr style=\"text-align: right;\">\n",
       "      <th></th>\n",
       "      <th>comments</th>\n",
       "    </tr>\n",
       "  </thead>\n",
       "  <tbody>\n",
       "    <tr>\n",
       "      <th>0</th>\n",
       "      <td>눈빛 과 기류 를 보면 알 지 않나용 일단 진심 으로 이뻐하는 게 여기 까지 느껴지네요</td>\n",
       "    </tr>\n",
       "    <tr>\n",
       "      <th>1</th>\n",
       "      <td>저 도 눈빛 과 기류 를 보고 알수있다고 생각 해요</td>\n",
       "    </tr>\n",
       "    <tr>\n",
       "      <th>2</th>\n",
       "      <td>걱정 하지 마세요 엔 프제 라고 해서 다 조리 있게 말 하 지는 않더라구요 대신 공...</td>\n",
       "    </tr>\n",
       "    <tr>\n",
       "      <th>3</th>\n",
       "      <td>네 말 도 많구 말 에 칭찬 이 많이 차지 하더라구요</td>\n",
       "    </tr>\n",
       "    <tr>\n",
       "      <th>4</th>\n",
       "      <td>밀당 아닌가요</td>\n",
       "    </tr>\n",
       "    <tr>\n",
       "      <th>...</th>\n",
       "      <td>...</td>\n",
       "    </tr>\n",
       "    <tr>\n",
       "      <th>995</th>\n",
       "      <td>확실한건 너무 좋아하면 저 처럼 읽 씹 당해도 또 보내긴 하는데요 저런 잘 자라는 ...</td>\n",
       "    </tr>\n",
       "    <tr>\n",
       "      <th>996</th>\n",
       "      <td>후전 연락 온다면 적극 적 으로 다시 변할것 같은데 굳이 저 혼자 자꾸 먼저 보내기...</td>\n",
       "    </tr>\n",
       "    <tr>\n",
       "      <th>997</th>\n",
       "      <td>망상 의 동물 이라 시간 이 지날수록 혼자 망상 하다가 마음 정리 할수도 있어요 지...</td>\n",
       "    </tr>\n",
       "    <tr>\n",
       "      <th>998</th>\n",
       "      <td>카톡 프사 에도 반응 하나요 제 얼굴 사진 으로 바꿔 볼까 해서요</td>\n",
       "    </tr>\n",
       "    <tr>\n",
       "      <th>999</th>\n",
       "      <td>앜제 가 좋아흐 는 잇 팁 분 이 막 바꾸셨는데 프사 를 저 랑 톡 하고 다섯 번 ...</td>\n",
       "    </tr>\n",
       "  </tbody>\n",
       "</table>\n",
       "<p>1000 rows × 1 columns</p>\n",
       "</div>"
      ],
      "text/plain": [
       "                                              comments\n",
       "0     눈빛 과 기류 를 보면 알 지 않나용 일단 진심 으로 이뻐하는 게 여기 까지 느껴지네요\n",
       "1                         저 도 눈빛 과 기류 를 보고 알수있다고 생각 해요\n",
       "2    걱정 하지 마세요 엔 프제 라고 해서 다 조리 있게 말 하 지는 않더라구요 대신 공...\n",
       "3                        네 말 도 많구 말 에 칭찬 이 많이 차지 하더라구요\n",
       "4                                              밀당 아닌가요\n",
       "..                                                 ...\n",
       "995  확실한건 너무 좋아하면 저 처럼 읽 씹 당해도 또 보내긴 하는데요 저런 잘 자라는 ...\n",
       "996  후전 연락 온다면 적극 적 으로 다시 변할것 같은데 굳이 저 혼자 자꾸 먼저 보내기...\n",
       "997  망상 의 동물 이라 시간 이 지날수록 혼자 망상 하다가 마음 정리 할수도 있어요 지...\n",
       "998               카톡 프사 에도 반응 하나요 제 얼굴 사진 으로 바꿔 볼까 해서요\n",
       "999  앜제 가 좋아흐 는 잇 팁 분 이 막 바꾸셨는데 프사 를 저 랑 톡 하고 다섯 번 ...\n",
       "\n",
       "[1000 rows x 1 columns]"
      ]
     },
     "execution_count": 9,
     "metadata": {},
     "output_type": "execute_result"
    }
   ],
   "source": [
    "df"
   ]
  },
  {
   "cell_type": "code",
   "execution_count": 11,
   "metadata": {},
   "outputs": [
    {
     "name": "stderr",
     "output_type": "stream",
     "text": [
      "[I 2023-11-23 22:10:00,655] A new study created in memory with name: no-name-015b6435-d874-4b62-b885-e7985cde5ba5\n"
     ]
    },
    {
     "name": "stderr",
     "output_type": "stream",
     "text": [
      "[I 2023-11-23 22:10:00,843] Trial 0 finished with value: 0.0 and parameters: {'vector_size': 100, 'window': 5, 'min_count': 2, 'sg': 2}. Best is trial 0 with value: 0.0.\n",
      "[I 2023-11-23 22:10:00,984] Trial 1 finished with value: 0.0 and parameters: {'vector_size': 50, 'window': 3, 'min_count': 2, 'sg': 2}. Best is trial 0 with value: 0.0.\n",
      "[I 2023-11-23 22:10:01,157] Trial 2 finished with value: 0.0 and parameters: {'vector_size': 100, 'window': 5, 'min_count': 2, 'sg': 1}. Best is trial 0 with value: 0.0.\n",
      "[I 2023-11-23 22:10:01,339] Trial 3 finished with value: 0.0 and parameters: {'vector_size': 50, 'window': 5, 'min_count': 2, 'sg': 1}. Best is trial 0 with value: 0.0.\n",
      "[I 2023-11-23 22:10:01,523] Trial 4 finished with value: 0.0 and parameters: {'vector_size': 50, 'window': 5, 'min_count': 2, 'sg': 1}. Best is trial 0 with value: 0.0.\n",
      "[I 2023-11-23 22:10:01,744] Trial 5 finished with value: 0.0 and parameters: {'vector_size': 100, 'window': 3, 'min_count': 1, 'sg': 2}. Best is trial 0 with value: 0.0.\n",
      "[I 2023-11-23 22:10:01,956] Trial 6 finished with value: 0.0 and parameters: {'vector_size': 100, 'window': 3, 'min_count': 1, 'sg': 2}. Best is trial 0 with value: 0.0.\n",
      "[I 2023-11-23 22:10:02,150] Trial 7 finished with value: 0.0 and parameters: {'vector_size': 50, 'window': 5, 'min_count': 2, 'sg': 2}. Best is trial 0 with value: 0.0.\n",
      "[I 2023-11-23 22:10:02,330] Trial 8 finished with value: 0.0 and parameters: {'vector_size': 50, 'window': 5, 'min_count': 2, 'sg': 1}. Best is trial 0 with value: 0.0.\n",
      "[I 2023-11-23 22:10:02,593] Trial 9 finished with value: 0.0 and parameters: {'vector_size': 50, 'window': 5, 'min_count': 1, 'sg': 2}. Best is trial 0 with value: 0.0.\n"
     ]
    },
    {
     "name": "stdout",
     "output_type": "stream",
     "text": [
      "Best parameters: {'vector_size': 100, 'window': 5, 'min_count': 2, 'sg': 2}\n"
     ]
    }
   ],
   "source": [
    "\n",
    "df = pd.read_csv('./tokenized_0.csv')\n",
    "\n",
    "# 각 행의 텍스트를 토큰화하여 리스트로 변환\n",
    "tokenized_corpus = [str(sentence).lower().split() for sentence in df['comments'] if pd.notnull(sentence)]\n",
    "\n",
    "def objective(trial):\n",
    "    # 하이퍼파라미터 탐색할 범위 지정\n",
    "    vector_size = trial.suggest_categorical('vector_size', [50, 100])\n",
    "    window = trial.suggest_categorical('window', [3, 5])\n",
    "    min_count = trial.suggest_categorical('min_count', [1, 2])\n",
    "    sg = trial.suggest_categorical('sg', [1, 2])\n",
    "\n",
    "    # Word2Vec 모델 정의\n",
    "    model = Word2Vec(vector_size=vector_size, window=window, min_count=min_count, sg=sg)\n",
    "\n",
    "    # 모델 학습\n",
    "    model.build_vocab(tokenized_corpus)\n",
    "    model.train(tokenized_corpus, total_examples=model.corpus_count, epochs=model.epochs)\n",
    "\n",
    "    # 목적 함수(예를 들어, 여기선 validation loss 등)를 반환하도록 작성\n",
    "    # 여기서는 단순히 학습된 모델의 전체 손실값을 반환하는 것으로 가정합니다\n",
    "    loss = model.get_latest_training_loss()\n",
    "\n",
    "    return loss\n",
    "\n",
    "# Optuna를 사용하여 최적화 실행\n",
    "study = optuna.create_study(direction='minimize')\n",
    "study.optimize(objective, n_trials=10)  # 시행 횟수는 필요에 따라 조정할 수 있습니다\n",
    "\n",
    "# 최적의 하이퍼파라미터 출력\n",
    "print(\"Best parameters:\", study.best_params)"
   ]
  },
  {
   "cell_type": "code",
   "execution_count": null,
   "metadata": {},
   "outputs": [],
   "source": []
  }
 ],
 "metadata": {
  "kernelspec": {
   "display_name": "urop",
   "language": "python",
   "name": "python3"
  },
  "language_info": {
   "codemirror_mode": {
    "name": "ipython",
    "version": 3
   },
   "file_extension": ".py",
   "mimetype": "text/x-python",
   "name": "python",
   "nbconvert_exporter": "python",
   "pygments_lexer": "ipython3",
   "version": "3.11.5"
  }
 },
 "nbformat": 4,
 "nbformat_minor": 2
}
