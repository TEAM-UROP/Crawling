{
 "cells": [
  {
   "cell_type": "code",
   "execution_count": null,
   "metadata": {},
   "outputs": [],
   "source": [
    "\n",
    "import bs4\n",
    "import pandas as pd\n",
    "import numpy as np\n",
    "import sys\n",
    "import os\n",
    "import time\n",
    "import selenium\n",
    "from selenium import webdriver\n",
    "from selenium.webdriver.common.keys import Keys\n",
    "from selenium.webdriver.common.by import By\n",
    "from bs4 import BeautifulSoup as bs\n",
    "import pyperclip\n",
    "from selenium.common.exceptions import NoSuchElementException"
   ]
  },
  {
   "cell_type": "code",
   "execution_count": null,
   "metadata": {},
   "outputs": [],
   "source": [
    "# 크롤링 과정\n",
    "driver = webdriver.Chrome() \n",
    "\n",
    "# 경로 설정\n",
    "url = 'https://cafe.naver.com/mbticafe'\n",
    "\n",
    "login=1\n",
    "\n",
    "# 네이버 로그인\n",
    "if login==1 :\n",
    "\n",
    "    driver.get('https://nid.naver.com/nidlogin.login')\n",
    "    time.sleep(1)\n",
    "\n",
    "    pyperclip.copy('') # 네이버 ID를 복붙하여 넣음\n",
    "    driver.find_element(By.ID,'id').send_keys(Keys.CONTROL, 'v')\n",
    "    time.sleep(1)\n",
    "\n",
    "    pyperclip.copy('') # 네이버 PW를 복붙하여 넣음\n",
    "    driver.find_element(By.ID,'pw').send_keys(Keys.CONTROL, 'v')\n",
    "    time.sleep(1)\n",
    "\n",
    "    driver.find_element(By.ID,'log.login').click()\n",
    "    time.sleep(1)"
   ]
  }
 ],
 "metadata": {
  "language_info": {
   "name": "python"
  }
 },
 "nbformat": 4,
 "nbformat_minor": 2
}
